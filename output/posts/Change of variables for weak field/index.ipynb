{
 "metadata": {
  "name": ""
 },
 "nbformat": 3,
 "nbformat_minor": 0,
 "worksheets": [
  {
   "cells": [
    {
     "cell_type": "code",
     "collapsed": false,
     "input": [
      "import numpy as np\n",
      "import matplotlib.pyplot as pl\n",
      "%matplotlib inline"
     ],
     "language": "python",
     "metadata": {},
     "outputs": [],
     "prompt_number": 1
    },
    {
     "cell_type": "code",
     "collapsed": false,
     "input": [
      "BParObs = 300.0*np.cos(60.0*np.pi/180.0)"
     ],
     "language": "python",
     "metadata": {},
     "outputs": [],
     "prompt_number": 13
    },
    {
     "cell_type": "code",
     "collapsed": false,
     "input": [
      "B = np.linspace(0.0,1000.0,200)\n",
      "theta = np.linspace(0.0,np.pi,200)\n",
      "h = np.linspace(-20.0,20.0,200)\n",
      "BMat, thetaMat = np.meshgrid(B, theta)\n",
      "BMat, hMat = np.meshgrid(B, h)\n",
      "f = lambda x: (1.0+np.tanh(x))/2.0*np.pi"
     ],
     "language": "python",
     "metadata": {},
     "outputs": [],
     "prompt_number": 14
    },
    {
     "cell_type": "code",
     "collapsed": false,
     "input": [
      "like = np.exp(-(BParObs - BMat*np.cos(thetaMat))**2 / 20.0**2)\n",
      "chi2 = (BParObs - BMat*np.cos(thetaMat))**2 / 20.0**2\n",
      "pl.contourf(B, theta, chi2, levels=np.arange(10))"
     ],
     "language": "python",
     "metadata": {},
     "outputs": [
      {
       "metadata": {},
       "output_type": "pyout",
       "prompt_number": 15,
       "text": [
        "<matplotlib.contour.QuadContourSet instance at 0xb00e844c>"
       ]
      },
      {
       "metadata": {},
       "output_type": "display_data",
       "png": "[encoded data removed]",
       "text": [
        "<matplotlib.figure.Figure at 0xb011c3cc>"
       ]
      }
     ],
     "prompt_number": 15
    },
    {
     "cell_type": "code",
     "collapsed": false,
     "input": [
      "likeTransformed = np.exp(-(BParObs - BMat*np.cos(f(hMat)))**2 / 20.0**2)\n",
      "chi2Transformed = (BParObs - BMat*np.cos(f(hMat)))**2 / 20.0**2\n",
      "pl.contourf(B, h, chi2Transformed, levels=np.arange(10))"
     ],
     "language": "python",
     "metadata": {},
     "outputs": [
      {
       "metadata": {},
       "output_type": "pyout",
       "prompt_number": 16,
       "text": [
        "<matplotlib.contour.QuadContourSet instance at 0xb00cb48c>"
       ]
      },
      {
       "metadata": {},
       "output_type": "display_data",
       "png": "[encoded data removed]",
       "text": [
        "<matplotlib.figure.Figure at 0xb01447ec>"
       ]
      }
     ],
     "prompt_number": 16
    },
    {
     "cell_type": "code",
     "collapsed": false,
     "input": [],
     "language": "python",
     "metadata": {},
     "outputs": []
    }
   ],
   "metadata": {}
  }
 ]
}