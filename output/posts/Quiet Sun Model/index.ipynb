{
 "metadata": {
  "name": "",
  "signature": "sha256:455f78293267a87829af1883b68e167472aa0b9cb4eb2fe66ff47f2bd8a5ecf6"
 },
 "nbformat": 3,
 "nbformat_minor": 0,
 "worksheets": [
  {
   "cells": [
    {
     "cell_type": "code",
     "collapsed": false,
     "input": [
      "import pymc\n",
      "import numpy as np\n",
      "import matplotlib.pyplot as pl\n",
      "import seaborn as sn\n",
      "import ipdb\n",
      "%matplotlib inline"
     ],
     "language": "python",
     "metadata": {},
     "outputs": [],
     "prompt_number": 2
    },
    {
     "cell_type": "code",
     "collapsed": false,
     "input": [
      "def LOS_to_LV(theta, costhetaB_LOS, sinthetaB_LOS, cosphiB_LOS, sinphiB_LOS):\n",
      "\tcosthetaB_LV = np.cos(theta) * costhetaB_LOS - np.sin(theta) * sinthetaB_LOS * cosphiB_LOS\n",
      "\tsinthetaB_LV = np.sqrt(1.0-costhetaB_LV**2)\n",
      "\tcosphiB_LV = (np.cos(theta) * sinthetaB_LOS * cosphiB_LOS + costhetaB_LOS * np.sin(theta)) / sinthetaB_LV\n",
      "\tsinphiB_LV = sinthetaB_LOS * sinphiB_LOS / sinthetaB_LV\n",
      "\t\n",
      "\treturn costhetaB_LV, sinthetaB_LV, cosphiB_LV, sinphiB_LV\n",
      "\n",
      "def LV_to_LOS(theta, costhetaB_LV, sinthetaB_LV, cosphiB_LV, sinphiB_LV):\n",
      "\tcosthetaB_LOS = np.cos(theta) * costhetaB_LV + np.sin(theta) * sinthetaB_LV * cosphiB_LV\n",
      "\tsinthetaB_LOS = np.sqrt(1.0-costhetaB_LOS**2)\n",
      "\tcosphiB_LOS = (np.cos(theta) * sinthetaB_LV * cosphiB_LV - costhetaB_LV * np.sin(theta)) / sinthetaB_LOS\n",
      "\tsinphiB_LOS = sinthetaB_LV * sinphiB_LV / sinthetaB_LOS\n",
      "\t\n",
      "\treturn costhetaB_LOS, sinthetaB_LOS, cosphiB_LOS, sinphiB_LOS"
     ],
     "language": "python",
     "metadata": {},
     "outputs": []
    },
    {
     "cell_type": "raw",
     "metadata": {},
     "source": [
      "Generate some fake data."
     ]
    },
    {
     "cell_type": "code",
     "collapsed": false,
     "input": [
      "nPatches = 10\n",
      "nMax = 50\n",
      "nPointsPatch = nMax * np.random.rand(nPatches)\n",
      "muPatch = np.random.rand(nPatches)\n",
      "\n",
      "for i in range(nPatches):\n",
      "    "
     ],
     "language": "python",
     "metadata": {},
     "outputs": []
    }
   ],
   "metadata": {}
  }
 ]
}