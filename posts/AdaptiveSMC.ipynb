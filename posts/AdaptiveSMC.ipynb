{
 "metadata": {
  "name": ""
 },
 "nbformat": 3,
 "nbformat_minor": 0,
 "worksheets": [
  {
   "cells": [
    {
     "cell_type": "code",
     "collapsed": false,
     "input": [
      "import numpy as np\n",
      "import matplotlib.pyplot as pl\n",
      "import scipy.optimize as op\n",
      "import pdb\n",
      "%matplotlib inline"
     ],
     "language": "python",
     "metadata": {},
     "outputs": [],
     "prompt_number": 30
    },
    {
     "cell_type": "code",
     "collapsed": false,
     "input": [
      "class adaptiveSMC(object):\n",
      "    def __init__(self):\n",
      "        self.M = 50  # Number of pseudo observations for each particle\n",
      "        self.N = 1000  # Number of particles\n",
      "        self.alpha = 0.95 # Percentage of particles surviving\n",
      "        self.theta = np.random.uniform(low=-10.0, high=10.0, size=self.N)  # Initial parameters from the prior        \n",
      "        \n",
      "        self.pseudoObs = self.simulateFromModel(self.theta)  # Simulate particles from the prior\n",
      "        \n",
      "        self.W = np.ones(self.N) / self.N\n",
      "        \n",
      "        self.epsilon = 100\n",
      "        self.epsilonOld = 0\n",
      "        self.epsilonTarget = 0.025\n",
      "        self.ESSThreshold = self.N / 2\n",
      "        \n",
      "        self.epsilonStore = []\n",
      "        self.ESSStore = []\n",
      "        \n",
      "    def simulateFromModel(self, pars):\n",
      "        pseudoObs = np.zeros((self.M,self.N))\n",
      "        for i in range(self.M):\n",
      "            u = np.random.rand(self.N)\n",
      "            a = np.where(u < 0.5)\n",
      "            b = np.where(u >= 0.5)\n",
      "            pseudoObs[i,a] = pars[a] + np.random.rand(a[0].size)\n",
      "            pseudoObs[i,b] = pars[b] + np.random.rand(b[0].size)\n",
      "        return pseudoObs\n",
      "    \n",
      "    def aliveParticles(self, epsilon, x):\n",
      "        npa = np.sum(np.abs(x) < epsilon, axis=0)\n",
      "        return np.sum(npa>0) / self.N\n",
      "    \n",
      "    def sample(self):\n",
      "#        while (self.epsilon > self.epsilonTarget):\n",
      "\n",
      "# Find next level\n",
      "        self.epsilonOld = self.epsilon\n",
      "        refLevel = self.alpha * self.aliveParticles(self.epsilonOld, self.pseudoObs)\n",
      "        self.epsilon = op.bisect(lambda eps: self.aliveParticles(eps, self.pseudoObs)-refLevel, 0, self.epsilonOld)\n",
      "        if (self.epsilon < self.epsilonTarget):\n",
      "            self.epsilon = self.epsilonTarget\n",
      "        \n",
      "        self.ESS = 1.0 / np.sum(self.W**2)\n",
      "        self.epsilonStore.append(self.epsilon)\n",
      "        self.ESSStore.append(self.ESS)\n",
      "        \n",
      "# Compute associated weights\n",
      "        d = np.abs(self.pseudoObs)\n",
      "        npaOld = np.sum(d < self.epsilonOld, axis=0)\n",
      "        npa = np.sum(d < self.epsilon, axis=0)\n",
      "        a = np.where(npaOld > 0)\n",
      "        b = np.where(npaOld == 0)\n",
      "        self.W[a] = self.W[a] * npa[a] / npaOld[a]\n",
      "        self.W[b] = np.zeros(b[0].size)\n",
      "        self.W /= np.sum(self.W)\n",
      "        \n",
      "# Resample if necessary\n",
      "        if (np.sum(self.W**2) * self.ESSThreshol > 1):\n",
      "            \n",
      "        "
     ],
     "language": "python",
     "metadata": {},
     "outputs": [],
     "prompt_number": 54
    },
    {
     "cell_type": "code",
     "collapsed": false,
     "input": [
      "smc = adaptiveSMC()"
     ],
     "language": "python",
     "metadata": {},
     "outputs": [],
     "prompt_number": 55
    },
    {
     "cell_type": "code",
     "collapsed": false,
     "input": [
      "smc.sample()"
     ],
     "language": "python",
     "metadata": {},
     "outputs": [
      {
       "output_type": "stream",
       "stream": "stdout",
       "text": [
        "10.0076821269\n"
       ]
      }
     ],
     "prompt_number": 56
    },
    {
     "cell_type": "code",
     "collapsed": false,
     "input": [
      "a[0].size"
     ],
     "language": "python",
     "metadata": {},
     "outputs": [
      {
       "metadata": {},
       "output_type": "pyout",
       "prompt_number": 14,
       "text": [
        "2"
       ]
      }
     ],
     "prompt_number": 14
    },
    {
     "cell_type": "code",
     "collapsed": false,
     "input": [],
     "language": "python",
     "metadata": {},
     "outputs": []
    }
   ],
   "metadata": {}
  }
 ]
}